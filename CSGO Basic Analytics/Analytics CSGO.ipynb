{
 "cells": [
  {
   "cell_type": "markdown",
   "metadata": {},
   "source": [
    "## Applied Data Science Capstone Project PART 1"
   ]
  },
  {
   "cell_type": "markdown",
   "metadata": {},
   "source": [
    "# Analytics: Counter Strike:Global Offensive"
   ]
  },
  {
   "cell_type": "markdown",
   "metadata": {},
   "source": [
    "**Introduction**"
   ]
  },
  {
   "cell_type": "markdown",
   "metadata": {},
   "source": [
    "Counter Strike : Global Offensive better known as \"CSGO\" is a widely popular game played online and I myself am very fond of playing it. The game is very competitive and a lot of player put effort and time in improving his/her skills in the game . It is among the few games which has made up to the E-sports (Electronic Sports) platform and many competitions and tournament are held world wide.\n",
    "\n",
    "My motive is to find whether there are helpful factors which leads to better winning chances for a team based upon previous games played competitively over the period of time.\n",
    "\n",
    "The game is played as Terrorists side Vs the Counter Terrorists side with each side consisting of 5 players. A side can win a round by either--Dentonating the Bomb under time limit or Total elimination of the opposing side, as in the case of Terrorists , or--Surviving the time limit or Total elimination of the opposing side, as in the case of Counter Terrorists resulting one point to the winning side for single round.The teams play upon predesigned Maps.\n",
    "\n",
    "My approach is to find which Maps in the game favors or is beneficial for a given side."
   ]
  },
  {
   "cell_type": "markdown",
   "metadata": {},
   "source": [
    "**Data Section**"
   ]
  },
  {
   "cell_type": "markdown",
   "metadata": {},
   "source": [
    "Site used for parsing data-  hltv.org (https://www.hltv.org/matches)\n",
    "\n",
    "I will be using data from the site hltv.org which has data of all the recent games played among professional teams. The data i will be parsing out from the site is scores of the rounds for the two halves.\n",
    "\n",
    "The resulting data set would consist of-- the Map played having the Number of Terrorists sided victories and Number of Counter-Terrorists sided victories  "
   ]
  }
 ],
 "metadata": {
  "kernelspec": {
   "display_name": "Python",
   "language": "python",
   "name": "conda-env-python-py"
  },
  "language_info": {
   "codemirror_mode": {
    "name": "ipython",
    "version": 3
   },
   "file_extension": ".py",
   "mimetype": "text/x-python",
   "name": "python",
   "nbconvert_exporter": "python",
   "pygments_lexer": "ipython3",
   "version": "3.6.10"
  }
 },
 "nbformat": 4,
 "nbformat_minor": 4
}
